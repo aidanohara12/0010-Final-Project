{
 "cells": [
  {
   "cell_type": "markdown",
   "metadata": {},
   "source": [
    "# **The Speed Racers**"
   ]
  },
  {
   "cell_type": "markdown",
   "metadata": {},
   "source": [
    "## The Best Neighborhood in Pittsburgh to Speed in"
   ]
  },
  {
   "cell_type": "markdown",
   "metadata": {},
   "source": [
    "![Speed Racer](https://media.giphy.com/media/SzjXMilesL2xO/giphy.gif)"
   ]
  },
  {
   "cell_type": "markdown",
   "metadata": {},
   "source": [
    "#### **When loooking for the best neighborhood in Pittsburgh, there is one factor that weighs more than the rest, being able to have fun. Having fun included driving at speeds at which the cops wouldnt like. Some factors to take into account when looking for the best neighborhoods to speed in would be hazzards in the road, steet signs, and speed bumbs. All of these lead to a less fun neighborhood where you cant drive at your full potential.**"
   ]
  },
  {
   "cell_type": "markdown",
   "metadata": {},
   "source": [
    "#### **First lets look at all the street signs. Street signs mean that you have to slow down and even come to a stop in come situations.**"
   ]
  },
  {
   "cell_type": "code",
   "execution_count": 2,
   "metadata": {},
   "outputs": [
    {
     "data": {
      "text/plain": [
       "neighborhood\n",
       "Mount Oliver Borough           17\n",
       "Arlington Heights              21\n",
       "Glen Hazel                     38\n",
       "Chartiers City                 44\n",
       "Ridgemont                      62\n",
       "                             ... \n",
       "Squirrel Hill South          3281\n",
       "Shadyside                    3370\n",
       "Central Business District    3491\n",
       "Bloomfield                   3627\n",
       "South Side Flats             3672\n",
       "Name: num_signs, Length: 91, dtype: int64"
      ]
     },
     "execution_count": 2,
     "metadata": {},
     "output_type": "execute_result"
    }
   ],
   "source": [
    "import pandas as pd\n",
    "import geopandas as gpd\n",
    "\n",
    "street_sign_data = pd.read_csv(\"streetSigns.csv\", index_col=\"id\")\n",
    "\n",
    "ssd = street_sign_data.groupby(\"neighborhood\").sum()['num_signs']\n",
    "ssd.sort_values(ascending=True)"
   ]
  },
  {
   "cell_type": "markdown",
   "metadata": {},
   "source": [
    "#### **Looking at these numbers we can see the neighborhoods with the fewest traffic signs and the neighborhoods with the most traffic signs. We're looking for a fun neighborhood, so let's just look at the ones with the fewest signs in graph form.**"
   ]
  },
  {
   "cell_type": "code",
   "execution_count": 3,
   "metadata": {},
   "outputs": [
    {
     "data": {
      "text/plain": [
       "<matplotlib.axes._subplots.AxesSubplot at 0x7f76ba1ef3d0>"
      ]
     },
     "execution_count": 3,
     "metadata": {},
     "output_type": "execute_result"
    },
    {
     "data": {
      "image/png": "[encoded data removed]",
      "text/plain": [
       "<Figure size 432x288 with 1 Axes>"
      ]
     },
     "metadata": {
      "needs_background": "light"
     },
     "output_type": "display_data"
    }
   ],
   "source": [
    "ssdSorted = ssd.sort_values(ascending=True).head(8)\n",
    "ssdSorted.plot.bar()"
   ]
  },
  {
   "cell_type": "markdown",
   "metadata": {},
   "source": [
    "#### **Here, we can clearly see that Mount Oliver Borough is the absolute best option to live in. We have more data to look at though, so let's see which neighborhoods hold up in the traffic report tests.**"
   ]
  },
  {
   "cell_type": "code",
   "execution_count": 4,
   "metadata": {},
   "outputs": [
    {
     "data": {
      "text/plain": [
       "NEIGHBORHOOD\n",
       "Windgap                 1\n",
       "Glen Hazel              1\n",
       "Lower Lawrenceville     1\n",
       "Middle Hill             1\n",
       "Mt. Oliver              1\n",
       "                       ..\n",
       "Squirrel Hill North    19\n",
       "Beltzhoover            19\n",
       "Beechview              21\n",
       "Bloomfield             37\n",
       "Squirrel Hill South    45\n",
       "Name: NUM_REPORTS, Length: 82, dtype: int64"
      ]
     },
     "execution_count": 4,
     "metadata": {},
     "output_type": "execute_result"
    }
   ],
   "source": [
    "report_data = pd.read_csv(\"reports.csv\", index_col=\"_id\", low_memory=False)\n",
    "report_query = report_data['REQUEST_TYPE'].str.contains('street | Street | road | Road', na=False)\n",
    "rdSorted = report_data[report_query]\n",
    "rdSorted.head(10)\n",
    "rdSorted2 = rdSorted.groupby(\"NEIGHBORHOOD\").sum()['NUM_REPORTS']\n",
    "rdSorted2.sort_values(ascending=True)"
   ]
  },
  {
   "cell_type": "markdown",
   "metadata": {},
   "source": [
    "#### **After filtering all the reports to only look at reports based on traffic and road incidents, we can see that there are many neighborhoods which experience very few. This will be good for us, since there will be less hazards in the way. We can also look at the different traffic reports and see which are the most common.**"
   ]
  },
  {
   "cell_type": "code",
   "execution_count": 5,
   "metadata": {},
   "outputs": [
    {
     "ename": "AttributeError",
     "evalue": "'Series' object has no attribute 'iterrows'",
     "output_type": "error",
     "traceback": [
      "\u001b[0;31m---------------------------------------------------------------------------\u001b[0m",
      "\u001b[0;31mAttributeError\u001b[0m                            Traceback (most recent call last)",
      "\u001b[0;32m<ipython-input-5-362f57335df5>\u001b[0m in \u001b[0;36m<module>\u001b[0;34m\u001b[0m\n\u001b[1;32m      1\u001b[0m \u001b[0mreport_dict\u001b[0m \u001b[0;34m=\u001b[0m \u001b[0;34m{\u001b[0m\u001b[0;34m}\u001b[0m\u001b[0;34m\u001b[0m\u001b[0;34m\u001b[0m\u001b[0m\n\u001b[1;32m      2\u001b[0m \u001b[0;34m\u001b[0m\u001b[0m\n\u001b[0;32m----> 3\u001b[0;31m \u001b[0;32mfor\u001b[0m \u001b[0mindex\u001b[0m\u001b[0;34m,\u001b[0m \u001b[0mrow\u001b[0m \u001b[0;32min\u001b[0m \u001b[0mrdSorted2\u001b[0m\u001b[0;34m.\u001b[0m\u001b[0miterrows\u001b[0m\u001b[0;34m(\u001b[0m\u001b[0;34m)\u001b[0m\u001b[0;34m:\u001b[0m\u001b[0;34m\u001b[0m\u001b[0;34m\u001b[0m\u001b[0m\n\u001b[0m\u001b[1;32m      4\u001b[0m     \u001b[0mreport_name\u001b[0m \u001b[0;34m=\u001b[0m \u001b[0mrow\u001b[0m\u001b[0;34m[\u001b[0m\u001b[0;34m'REQUEST_TYPE'\u001b[0m\u001b[0;34m]\u001b[0m\u001b[0;34m\u001b[0m\u001b[0;34m\u001b[0m\u001b[0m\n\u001b[1;32m      5\u001b[0m     \u001b[0;32mif\u001b[0m \u001b[0mreport_name\u001b[0m \u001b[0;32min\u001b[0m \u001b[0mreport_dict\u001b[0m\u001b[0;34m:\u001b[0m\u001b[0;34m\u001b[0m\u001b[0;34m\u001b[0m\u001b[0m\n",
      "\u001b[0;32m/opt/tljh/user/lib/python3.8/site-packages/pandas/core/generic.py\u001b[0m in \u001b[0;36m__getattr__\u001b[0;34m(self, name)\u001b[0m\n\u001b[1;32m   5581\u001b[0m         ):\n\u001b[1;32m   5582\u001b[0m             \u001b[0;32mreturn\u001b[0m \u001b[0mself\u001b[0m\u001b[0;34m[\u001b[0m\u001b[0mname\u001b[0m\u001b[0;34m]\u001b[0m\u001b[0;34m\u001b[0m\u001b[0;34m\u001b[0m\u001b[0m\n\u001b[0;32m-> 5583\u001b[0;31m         \u001b[0;32mreturn\u001b[0m \u001b[0mobject\u001b[0m\u001b[0;34m.\u001b[0m\u001b[0m__getattribute__\u001b[0m\u001b[0;34m(\u001b[0m\u001b[0mself\u001b[0m\u001b[0;34m,\u001b[0m \u001b[0mname\u001b[0m\u001b[0;34m)\u001b[0m\u001b[0;34m\u001b[0m\u001b[0;34m\u001b[0m\u001b[0m\n\u001b[0m\u001b[1;32m   5584\u001b[0m \u001b[0;34m\u001b[0m\u001b[0m\n\u001b[1;32m   5585\u001b[0m     \u001b[0;32mdef\u001b[0m \u001b[0m__setattr__\u001b[0m\u001b[0;34m(\u001b[0m\u001b[0mself\u001b[0m\u001b[0;34m,\u001b[0m \u001b[0mname\u001b[0m\u001b[0;34m:\u001b[0m \u001b[0mstr\u001b[0m\u001b[0;34m,\u001b[0m \u001b[0mvalue\u001b[0m\u001b[0;34m)\u001b[0m \u001b[0;34m->\u001b[0m \u001b[0;32mNone\u001b[0m\u001b[0;34m:\u001b[0m\u001b[0;34m\u001b[0m\u001b[0;34m\u001b[0m\u001b[0m\n",
      "\u001b[0;31mAttributeError\u001b[0m: 'Series' object has no attribute 'iterrows'"
     ]
    }
   ],
   "source": [
    "report_dict = {}\n",
    "\n",
    "for index, row in rdSorted2.iterrows():\n",
    "    report_name = row['REQUEST_TYPE']\n",
    "    if report_name in report_dict:\n",
    "        count = report_dict[report_name]\n",
    "        count = count + 1\n",
    "        report_dict[report_name] = count\n",
    "    else:\n",
    "        report_dict[report_name] = 1\n",
    "        \n",
    "report_series = pd.Series(report_dict)\n",
    "report_series"
   ]
  },
  {
   "cell_type": "code",
   "execution_count": 7,
   "metadata": {},
   "outputs": [
    {
     "data": {
      "text/plain": [
       "neighborhood\n",
       "Central Oakland         1.0\n",
       "Stanton Heights         1.0\n",
       "Overbrook               1.0\n",
       "Highland Park           2.0\n",
       "Bloomfield              3.0\n",
       "Squirrel Hill North     3.0\n",
       "Garfield                3.0\n",
       "South Side Flats        3.0\n",
       "Mount Washington        3.0\n",
       "South Side Slopes       4.0\n",
       "Upper Hill              4.0\n",
       "Homewood South          4.0\n",
       "Brookline               4.0\n",
       "Perry North             4.0\n",
       "Polish Hill             6.0\n",
       "North Oakland           6.0\n",
       "Carrick                10.0\n",
       "Squirrel Hill South    18.0\n",
       "Name: number_humps, dtype: float64"
      ]
     },
     "execution_count": 7,
     "metadata": {},
     "output_type": "execute_result"
    }
   ],
   "source": [
    "speed_humps_data = pd.read_csv(\"speedHumps.csv\", index_col = \"hump_id\") \n",
    "speed_humps_data['neighborhood'].value_counts().sort_values(ascending=True)\n",
    "humps = pd.read_csv(\"speedHumps.csv\")\n",
    "num_humps = humps.groupby(\"neighborhood\").sum()['number_humps']\n",
    "num_humps.sort_values(ascending=True)"
   ]
  },
  {
   "cell_type": "markdown",
   "metadata": {},
   "source": [
    "#### **This is showing which neighborhoods have the least amount of speed humps in numperical form. Note, this only shows which neighborhoods have speed bumps. If there are neighborhoods not listed, they do not have any speed bumps which would make them more favorable. Lets put this data into a graph now.** "
   ]
  },
  {
   "cell_type": "code",
   "execution_count": 8,
   "metadata": {},
   "outputs": [
    {
     "data": {
      "text/plain": [
       "<matplotlib.axes._subplots.AxesSubplot at 0x7f76ba1a0ee0>"
      ]
     },
     "execution_count": 8,
     "metadata": {},
     "output_type": "execute_result"
    },
    {
     "data": {
      "image/png": "[encoded data removed]",
      "text/plain": [
       "<Figure size 432x288 with 1 Axes>"
      ]
     },
     "metadata": {
      "needs_background": "light"
     },
     "output_type": "display_data"
    }
   ],
   "source": [
    "num_humps.sort_values(ascending=False).plot.barh()"
   ]
  },
  {
   "cell_type": "code",
   "execution_count": null,
   "metadata": {},
   "outputs": [],
   "source": []
  }
 ],
 "metadata": {
  "kernelspec": {
   "display_name": "Python 3",
   "language": "python",
   "name": "python3"
  },
  "language_info": {
   "codemirror_mode": {
    "name": "ipython",
    "version": 3
   },
   "file_extension": ".py",
   "mimetype": "text/x-python",
   "name": "python",
   "nbconvert_exporter": "python",
   "pygments_lexer": "ipython3",
   "version": "3.8.3"
  }
 },
 "nbformat": 4,
 "nbformat_minor": 4
}
